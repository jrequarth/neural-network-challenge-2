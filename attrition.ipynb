{
  "cells": [
    {
      "cell_type": "markdown",
      "metadata": {
        "id": "view-in-github",
        "colab_type": "text"
      },
      "source": [
        "<a href=\"https://colab.research.google.com/github/jrequarth/neural-network-challenge-2/blob/main/attrition.ipynb\" target=\"_parent\"><img src=\"https://colab.research.google.com/assets/colab-badge.svg\" alt=\"Open In Colab\"/></a>"
      ]
    },
    {
      "cell_type": "markdown",
      "metadata": {
        "id": "alIIEHibGc3M"
      },
      "source": [
        "## Part 1: Preprocessing"
      ]
    },
    {
      "cell_type": "code",
      "execution_count": null,
      "metadata": {
        "colab": {
          "base_uri": "https://localhost:8080/",
          "height": 325
        },
        "id": "6eDUJ4NtGc3P",
        "outputId": "b50cb5f0-2807-4ae5-84b8-aa448a6ef762"
      },
      "outputs": [
        {
          "output_type": "execute_result",
          "data": {
            "text/plain": [
              "   Age Attrition     BusinessTravel              Department  DistanceFromHome  \\\n",
              "0   41       Yes      Travel_Rarely                   Sales                 1   \n",
              "1   49        No  Travel_Frequently  Research & Development                 8   \n",
              "2   37       Yes      Travel_Rarely  Research & Development                 2   \n",
              "3   33        No  Travel_Frequently  Research & Development                 3   \n",
              "4   27        No      Travel_Rarely  Research & Development                 2   \n",
              "\n",
              "   Education EducationField  EnvironmentSatisfaction  HourlyRate  \\\n",
              "0          2  Life Sciences                        2          94   \n",
              "1          1  Life Sciences                        3          61   \n",
              "2          2          Other                        4          92   \n",
              "3          4  Life Sciences                        4          56   \n",
              "4          1        Medical                        1          40   \n",
              "\n",
              "   JobInvolvement  ...  PerformanceRating RelationshipSatisfaction  \\\n",
              "0               3  ...                  3                        1   \n",
              "1               2  ...                  4                        4   \n",
              "2               2  ...                  3                        2   \n",
              "3               3  ...                  3                        3   \n",
              "4               3  ...                  3                        4   \n",
              "\n",
              "   StockOptionLevel TotalWorkingYears  TrainingTimesLastYear WorkLifeBalance  \\\n",
              "0                 0                 8                      0               1   \n",
              "1                 1                10                      3               3   \n",
              "2                 0                 7                      3               3   \n",
              "3                 0                 8                      3               3   \n",
              "4                 1                 6                      3               3   \n",
              "\n",
              "   YearsAtCompany  YearsInCurrentRole  YearsSinceLastPromotion  \\\n",
              "0               6                   4                        0   \n",
              "1              10                   7                        1   \n",
              "2               0                   0                        0   \n",
              "3               8                   7                        3   \n",
              "4               2                   2                        2   \n",
              "\n",
              "   YearsWithCurrManager  \n",
              "0                     5  \n",
              "1                     7  \n",
              "2                     0  \n",
              "3                     0  \n",
              "4                     2  \n",
              "\n",
              "[5 rows x 27 columns]"
            ],
            "text/html": [
              "\n",
              "  <div id=\"df-fceebae2-7039-49dd-a607-7dcc2f22eb6a\" class=\"colab-df-container\">\n",
              "    <div>\n",
              "<style scoped>\n",
              "    .dataframe tbody tr th:only-of-type {\n",
              "        vertical-align: middle;\n",
              "    }\n",
              "\n",
              "    .dataframe tbody tr th {\n",
              "        vertical-align: top;\n",
              "    }\n",
              "\n",
              "    .dataframe thead th {\n",
              "        text-align: right;\n",
              "    }\n",
              "</style>\n",
              "<table border=\"1\" class=\"dataframe\">\n",
              "  <thead>\n",
              "    <tr style=\"text-align: right;\">\n",
              "      <th></th>\n",
              "      <th>Age</th>\n",
              "      <th>Attrition</th>\n",
              "      <th>BusinessTravel</th>\n",
              "      <th>Department</th>\n",
              "      <th>DistanceFromHome</th>\n",
              "      <th>Education</th>\n",
              "      <th>EducationField</th>\n",
              "      <th>EnvironmentSatisfaction</th>\n",
              "      <th>HourlyRate</th>\n",
              "      <th>JobInvolvement</th>\n",
              "      <th>...</th>\n",
              "      <th>PerformanceRating</th>\n",
              "      <th>RelationshipSatisfaction</th>\n",
              "      <th>StockOptionLevel</th>\n",
              "      <th>TotalWorkingYears</th>\n",
              "      <th>TrainingTimesLastYear</th>\n",
              "      <th>WorkLifeBalance</th>\n",
              "      <th>YearsAtCompany</th>\n",
              "      <th>YearsInCurrentRole</th>\n",
              "      <th>YearsSinceLastPromotion</th>\n",
              "      <th>YearsWithCurrManager</th>\n",
              "    </tr>\n",
              "  </thead>\n",
              "  <tbody>\n",
              "    <tr>\n",
              "      <th>0</th>\n",
              "      <td>41</td>\n",
              "      <td>Yes</td>\n",
              "      <td>Travel_Rarely</td>\n",
              "      <td>Sales</td>\n",
              "      <td>1</td>\n",
              "      <td>2</td>\n",
              "      <td>Life Sciences</td>\n",
              "      <td>2</td>\n",
              "      <td>94</td>\n",
              "      <td>3</td>\n",
              "      <td>...</td>\n",
              "      <td>3</td>\n",
              "      <td>1</td>\n",
              "      <td>0</td>\n",
              "      <td>8</td>\n",
              "      <td>0</td>\n",
              "      <td>1</td>\n",
              "      <td>6</td>\n",
              "      <td>4</td>\n",
              "      <td>0</td>\n",
              "      <td>5</td>\n",
              "    </tr>\n",
              "    <tr>\n",
              "      <th>1</th>\n",
              "      <td>49</td>\n",
              "      <td>No</td>\n",
              "      <td>Travel_Frequently</td>\n",
              "      <td>Research &amp; Development</td>\n",
              "      <td>8</td>\n",
              "      <td>1</td>\n",
              "      <td>Life Sciences</td>\n",
              "      <td>3</td>\n",
              "      <td>61</td>\n",
              "      <td>2</td>\n",
              "      <td>...</td>\n",
              "      <td>4</td>\n",
              "      <td>4</td>\n",
              "      <td>1</td>\n",
              "      <td>10</td>\n",
              "      <td>3</td>\n",
              "      <td>3</td>\n",
              "      <td>10</td>\n",
              "      <td>7</td>\n",
              "      <td>1</td>\n",
              "      <td>7</td>\n",
              "    </tr>\n",
              "    <tr>\n",
              "      <th>2</th>\n",
              "      <td>37</td>\n",
              "      <td>Yes</td>\n",
              "      <td>Travel_Rarely</td>\n",
              "      <td>Research &amp; Development</td>\n",
              "      <td>2</td>\n",
              "      <td>2</td>\n",
              "      <td>Other</td>\n",
              "      <td>4</td>\n",
              "      <td>92</td>\n",
              "      <td>2</td>\n",
              "      <td>...</td>\n",
              "      <td>3</td>\n",
              "      <td>2</td>\n",
              "      <td>0</td>\n",
              "      <td>7</td>\n",
              "      <td>3</td>\n",
              "      <td>3</td>\n",
              "      <td>0</td>\n",
              "      <td>0</td>\n",
              "      <td>0</td>\n",
              "      <td>0</td>\n",
              "    </tr>\n",
              "    <tr>\n",
              "      <th>3</th>\n",
              "      <td>33</td>\n",
              "      <td>No</td>\n",
              "      <td>Travel_Frequently</td>\n",
              "      <td>Research &amp; Development</td>\n",
              "      <td>3</td>\n",
              "      <td>4</td>\n",
              "      <td>Life Sciences</td>\n",
              "      <td>4</td>\n",
              "      <td>56</td>\n",
              "      <td>3</td>\n",
              "      <td>...</td>\n",
              "      <td>3</td>\n",
              "      <td>3</td>\n",
              "      <td>0</td>\n",
              "      <td>8</td>\n",
              "      <td>3</td>\n",
              "      <td>3</td>\n",
              "      <td>8</td>\n",
              "      <td>7</td>\n",
              "      <td>3</td>\n",
              "      <td>0</td>\n",
              "    </tr>\n",
              "    <tr>\n",
              "      <th>4</th>\n",
              "      <td>27</td>\n",
              "      <td>No</td>\n",
              "      <td>Travel_Rarely</td>\n",
              "      <td>Research &amp; Development</td>\n",
              "      <td>2</td>\n",
              "      <td>1</td>\n",
              "      <td>Medical</td>\n",
              "      <td>1</td>\n",
              "      <td>40</td>\n",
              "      <td>3</td>\n",
              "      <td>...</td>\n",
              "      <td>3</td>\n",
              "      <td>4</td>\n",
              "      <td>1</td>\n",
              "      <td>6</td>\n",
              "      <td>3</td>\n",
              "      <td>3</td>\n",
              "      <td>2</td>\n",
              "      <td>2</td>\n",
              "      <td>2</td>\n",
              "      <td>2</td>\n",
              "    </tr>\n",
              "  </tbody>\n",
              "</table>\n",
              "<p>5 rows × 27 columns</p>\n",
              "</div>\n",
              "    <div class=\"colab-df-buttons\">\n",
              "\n",
              "  <div class=\"colab-df-container\">\n",
              "    <button class=\"colab-df-convert\" onclick=\"convertToInteractive('df-fceebae2-7039-49dd-a607-7dcc2f22eb6a')\"\n",
              "            title=\"Convert this dataframe to an interactive table.\"\n",
              "            style=\"display:none;\">\n",
              "\n",
              "  <svg xmlns=\"http://www.w3.org/2000/svg\" height=\"24px\" viewBox=\"0 -960 960 960\">\n",
              "    <path d=\"M120-120v-720h720v720H120Zm60-500h600v-160H180v160Zm220 220h160v-160H400v160Zm0 220h160v-160H400v160ZM180-400h160v-160H180v160Zm440 0h160v-160H620v160ZM180-180h160v-160H180v160Zm440 0h160v-160H620v160Z\"/>\n",
              "  </svg>\n",
              "    </button>\n",
              "\n",
              "  <style>\n",
              "    .colab-df-container {\n",
              "      display:flex;\n",
              "      gap: 12px;\n",
              "    }\n",
              "\n",
              "    .colab-df-convert {\n",
              "      background-color: #E8F0FE;\n",
              "      border: none;\n",
              "      border-radius: 50%;\n",
              "      cursor: pointer;\n",
              "      display: none;\n",
              "      fill: #1967D2;\n",
              "      height: 32px;\n",
              "      padding: 0 0 0 0;\n",
              "      width: 32px;\n",
              "    }\n",
              "\n",
              "    .colab-df-convert:hover {\n",
              "      background-color: #E2EBFA;\n",
              "      box-shadow: 0px 1px 2px rgba(60, 64, 67, 0.3), 0px 1px 3px 1px rgba(60, 64, 67, 0.15);\n",
              "      fill: #174EA6;\n",
              "    }\n",
              "\n",
              "    .colab-df-buttons div {\n",
              "      margin-bottom: 4px;\n",
              "    }\n",
              "\n",
              "    [theme=dark] .colab-df-convert {\n",
              "      background-color: #3B4455;\n",
              "      fill: #D2E3FC;\n",
              "    }\n",
              "\n",
              "    [theme=dark] .colab-df-convert:hover {\n",
              "      background-color: #434B5C;\n",
              "      box-shadow: 0px 1px 3px 1px rgba(0, 0, 0, 0.15);\n",
              "      filter: drop-shadow(0px 1px 2px rgba(0, 0, 0, 0.3));\n",
              "      fill: #FFFFFF;\n",
              "    }\n",
              "  </style>\n",
              "\n",
              "    <script>\n",
              "      const buttonEl =\n",
              "        document.querySelector('#df-fceebae2-7039-49dd-a607-7dcc2f22eb6a button.colab-df-convert');\n",
              "      buttonEl.style.display =\n",
              "        google.colab.kernel.accessAllowed ? 'block' : 'none';\n",
              "\n",
              "      async function convertToInteractive(key) {\n",
              "        const element = document.querySelector('#df-fceebae2-7039-49dd-a607-7dcc2f22eb6a');\n",
              "        const dataTable =\n",
              "          await google.colab.kernel.invokeFunction('convertToInteractive',\n",
              "                                                    [key], {});\n",
              "        if (!dataTable) return;\n",
              "\n",
              "        const docLinkHtml = 'Like what you see? Visit the ' +\n",
              "          '<a target=\"_blank\" href=https://colab.research.google.com/notebooks/data_table.ipynb>data table notebook</a>'\n",
              "          + ' to learn more about interactive tables.';\n",
              "        element.innerHTML = '';\n",
              "        dataTable['output_type'] = 'display_data';\n",
              "        await google.colab.output.renderOutput(dataTable, element);\n",
              "        const docLink = document.createElement('div');\n",
              "        docLink.innerHTML = docLinkHtml;\n",
              "        element.appendChild(docLink);\n",
              "      }\n",
              "    </script>\n",
              "  </div>\n",
              "\n",
              "\n",
              "<div id=\"df-dff58f1f-0ae5-4ed1-88c8-6e6a712c33e2\">\n",
              "  <button class=\"colab-df-quickchart\" onclick=\"quickchart('df-dff58f1f-0ae5-4ed1-88c8-6e6a712c33e2')\"\n",
              "            title=\"Suggest charts\"\n",
              "            style=\"display:none;\">\n",
              "\n",
              "<svg xmlns=\"http://www.w3.org/2000/svg\" height=\"24px\"viewBox=\"0 0 24 24\"\n",
              "     width=\"24px\">\n",
              "    <g>\n",
              "        <path d=\"M19 3H5c-1.1 0-2 .9-2 2v14c0 1.1.9 2 2 2h14c1.1 0 2-.9 2-2V5c0-1.1-.9-2-2-2zM9 17H7v-7h2v7zm4 0h-2V7h2v10zm4 0h-2v-4h2v4z\"/>\n",
              "    </g>\n",
              "</svg>\n",
              "  </button>\n",
              "\n",
              "<style>\n",
              "  .colab-df-quickchart {\n",
              "      --bg-color: #E8F0FE;\n",
              "      --fill-color: #1967D2;\n",
              "      --hover-bg-color: #E2EBFA;\n",
              "      --hover-fill-color: #174EA6;\n",
              "      --disabled-fill-color: #AAA;\n",
              "      --disabled-bg-color: #DDD;\n",
              "  }\n",
              "\n",
              "  [theme=dark] .colab-df-quickchart {\n",
              "      --bg-color: #3B4455;\n",
              "      --fill-color: #D2E3FC;\n",
              "      --hover-bg-color: #434B5C;\n",
              "      --hover-fill-color: #FFFFFF;\n",
              "      --disabled-bg-color: #3B4455;\n",
              "      --disabled-fill-color: #666;\n",
              "  }\n",
              "\n",
              "  .colab-df-quickchart {\n",
              "    background-color: var(--bg-color);\n",
              "    border: none;\n",
              "    border-radius: 50%;\n",
              "    cursor: pointer;\n",
              "    display: none;\n",
              "    fill: var(--fill-color);\n",
              "    height: 32px;\n",
              "    padding: 0;\n",
              "    width: 32px;\n",
              "  }\n",
              "\n",
              "  .colab-df-quickchart:hover {\n",
              "    background-color: var(--hover-bg-color);\n",
              "    box-shadow: 0 1px 2px rgba(60, 64, 67, 0.3), 0 1px 3px 1px rgba(60, 64, 67, 0.15);\n",
              "    fill: var(--button-hover-fill-color);\n",
              "  }\n",
              "\n",
              "  .colab-df-quickchart-complete:disabled,\n",
              "  .colab-df-quickchart-complete:disabled:hover {\n",
              "    background-color: var(--disabled-bg-color);\n",
              "    fill: var(--disabled-fill-color);\n",
              "    box-shadow: none;\n",
              "  }\n",
              "\n",
              "  .colab-df-spinner {\n",
              "    border: 2px solid var(--fill-color);\n",
              "    border-color: transparent;\n",
              "    border-bottom-color: var(--fill-color);\n",
              "    animation:\n",
              "      spin 1s steps(1) infinite;\n",
              "  }\n",
              "\n",
              "  @keyframes spin {\n",
              "    0% {\n",
              "      border-color: transparent;\n",
              "      border-bottom-color: var(--fill-color);\n",
              "      border-left-color: var(--fill-color);\n",
              "    }\n",
              "    20% {\n",
              "      border-color: transparent;\n",
              "      border-left-color: var(--fill-color);\n",
              "      border-top-color: var(--fill-color);\n",
              "    }\n",
              "    30% {\n",
              "      border-color: transparent;\n",
              "      border-left-color: var(--fill-color);\n",
              "      border-top-color: var(--fill-color);\n",
              "      border-right-color: var(--fill-color);\n",
              "    }\n",
              "    40% {\n",
              "      border-color: transparent;\n",
              "      border-right-color: var(--fill-color);\n",
              "      border-top-color: var(--fill-color);\n",
              "    }\n",
              "    60% {\n",
              "      border-color: transparent;\n",
              "      border-right-color: var(--fill-color);\n",
              "    }\n",
              "    80% {\n",
              "      border-color: transparent;\n",
              "      border-right-color: var(--fill-color);\n",
              "      border-bottom-color: var(--fill-color);\n",
              "    }\n",
              "    90% {\n",
              "      border-color: transparent;\n",
              "      border-bottom-color: var(--fill-color);\n",
              "    }\n",
              "  }\n",
              "</style>\n",
              "\n",
              "  <script>\n",
              "    async function quickchart(key) {\n",
              "      const quickchartButtonEl =\n",
              "        document.querySelector('#' + key + ' button');\n",
              "      quickchartButtonEl.disabled = true;  // To prevent multiple clicks.\n",
              "      quickchartButtonEl.classList.add('colab-df-spinner');\n",
              "      try {\n",
              "        const charts = await google.colab.kernel.invokeFunction(\n",
              "            'suggestCharts', [key], {});\n",
              "      } catch (error) {\n",
              "        console.error('Error during call to suggestCharts:', error);\n",
              "      }\n",
              "      quickchartButtonEl.classList.remove('colab-df-spinner');\n",
              "      quickchartButtonEl.classList.add('colab-df-quickchart-complete');\n",
              "    }\n",
              "    (() => {\n",
              "      let quickchartButtonEl =\n",
              "        document.querySelector('#df-dff58f1f-0ae5-4ed1-88c8-6e6a712c33e2 button');\n",
              "      quickchartButtonEl.style.display =\n",
              "        google.colab.kernel.accessAllowed ? 'block' : 'none';\n",
              "    })();\n",
              "  </script>\n",
              "</div>\n",
              "\n",
              "    </div>\n",
              "  </div>\n"
            ],
            "application/vnd.google.colaboratory.intrinsic+json": {
              "type": "dataframe",
              "variable_name": "attrition_df"
            }
          },
          "metadata": {},
          "execution_count": 1
        }
      ],
      "source": [
        "# Import our dependencies\n",
        "from sklearn.model_selection import train_test_split\n",
        "from sklearn.preprocessing import StandardScaler, OneHotEncoder, LabelEncoder\n",
        "import pandas as pd\n",
        "import numpy as np\n",
        "from tensorflow.keras.models import Model\n",
        "from tensorflow.keras import layers\n",
        "\n",
        "#  Import and read the attrition data\n",
        "attrition_df = pd.read_csv('https://static.bc-edx.com/ai/ail-v-1-0/m19/lms/datasets/attrition.csv')\n",
        "attrition_df.head()"
      ]
    },
    {
      "cell_type": "code",
      "execution_count": null,
      "metadata": {
        "colab": {
          "base_uri": "https://localhost:8080/"
        },
        "id": "g22aQSY4Gc3Q",
        "outputId": "b33cbe9e-b437-487e-e7e4-03c1cf2285af"
      },
      "outputs": [
        {
          "output_type": "execute_result",
          "data": {
            "text/plain": [
              "Age                         43\n",
              "Attrition                    2\n",
              "BusinessTravel               3\n",
              "Department                   3\n",
              "DistanceFromHome            29\n",
              "Education                    5\n",
              "EducationField               6\n",
              "EnvironmentSatisfaction      4\n",
              "HourlyRate                  71\n",
              "JobInvolvement               4\n",
              "JobLevel                     5\n",
              "JobRole                      9\n",
              "JobSatisfaction              4\n",
              "MaritalStatus                3\n",
              "NumCompaniesWorked          10\n",
              "OverTime                     2\n",
              "PercentSalaryHike           15\n",
              "PerformanceRating            2\n",
              "RelationshipSatisfaction     4\n",
              "StockOptionLevel             4\n",
              "TotalWorkingYears           40\n",
              "TrainingTimesLastYear        7\n",
              "WorkLifeBalance              4\n",
              "YearsAtCompany              37\n",
              "YearsInCurrentRole          19\n",
              "YearsSinceLastPromotion     16\n",
              "YearsWithCurrManager        18\n",
              "dtype: int64"
            ]
          },
          "metadata": {},
          "execution_count": 2
        }
      ],
      "source": [
        "# Determine the number of unique values in each column.\n",
        "attrition_df.nunique()"
      ]
    },
    {
      "cell_type": "code",
      "execution_count": null,
      "metadata": {
        "id": "50vMgBEnJbfM",
        "colab": {
          "base_uri": "https://localhost:8080/"
        },
        "outputId": "f8d23093-15a8-47d8-e268-5f402be91235"
      },
      "outputs": [
        {
          "output_type": "execute_result",
          "data": {
            "text/plain": [
              "Attrition     object\n",
              "Department    object\n",
              "dtype: object"
            ]
          },
          "metadata": {},
          "execution_count": 3
        }
      ],
      "source": [
        "# Create y_df with the Attrition and Department columns\n",
        "y_df = attrition_df[['Attrition', 'Department']]\n",
        "y_df.dtypes"
      ]
    },
    {
      "cell_type": "code",
      "execution_count": null,
      "metadata": {
        "colab": {
          "base_uri": "https://localhost:8080/"
        },
        "id": "Virka0zLGc3R",
        "outputId": "f860e692-94ed-4d41-cea0-c015b1ac4bfa"
      },
      "outputs": [
        {
          "output_type": "execute_result",
          "data": {
            "text/plain": [
              "Age                          int64\n",
              "BusinessTravel              object\n",
              "DistanceFromHome             int64\n",
              "Education                    int64\n",
              "EducationField              object\n",
              "EnvironmentSatisfaction      int64\n",
              "HourlyRate                   int64\n",
              "JobInvolvement               int64\n",
              "JobLevel                     int64\n",
              "JobRole                     object\n",
              "JobSatisfaction              int64\n",
              "MaritalStatus               object\n",
              "NumCompaniesWorked           int64\n",
              "OverTime                    object\n",
              "PercentSalaryHike            int64\n",
              "PerformanceRating            int64\n",
              "RelationshipSatisfaction     int64\n",
              "StockOptionLevel             int64\n",
              "TotalWorkingYears            int64\n",
              "TrainingTimesLastYear        int64\n",
              "WorkLifeBalance              int64\n",
              "YearsAtCompany               int64\n",
              "YearsInCurrentRole           int64\n",
              "YearsSinceLastPromotion      int64\n",
              "YearsWithCurrManager         int64\n",
              "dtype: object"
            ]
          },
          "metadata": {},
          "execution_count": 4
        }
      ],
      "source": [
        "# Create a list of at least 10 column names to use as X data\n",
        "list = attrition_df[['Age', 'BusinessTravel', 'DistanceFromHome', 'Education', 'EducationField', 'EnvironmentSatisfaction',\n",
        "                     'HourlyRate', 'JobInvolvement', 'JobLevel', 'JobRole', 'JobSatisfaction', 'MaritalStatus',\n",
        "                     'NumCompaniesWorked', 'OverTime', 'PercentSalaryHike', 'PerformanceRating', 'RelationshipSatisfaction',\n",
        "                     'StockOptionLevel', 'TotalWorkingYears', 'TrainingTimesLastYear', 'WorkLifeBalance',\n",
        "                     'YearsAtCompany', 'YearsInCurrentRole', 'YearsSinceLastPromotion', 'YearsWithCurrManager']]\n",
        "\n",
        "\n",
        "# Create X_df using your selected columns\n",
        "X_df = list\n",
        "\n",
        "# Show the data types for X_df\n",
        "X_df.dtypes\n",
        "\n"
      ]
    },
    {
      "cell_type": "code",
      "execution_count": null,
      "metadata": {
        "id": "KaJfdOGUMHMR"
      },
      "outputs": [],
      "source": [
        "# Split the data into training and testing sets\n",
        "from sklearn.model_selection import train_test_split\n",
        "X_df_train, X_df_test, y_df_train, y_df_test = train_test_split(X_df, y_df)\n"
      ]
    },
    {
      "cell_type": "code",
      "execution_count": null,
      "metadata": {
        "colab": {
          "base_uri": "https://localhost:8080/"
        },
        "id": "NYubUJqiLCSp",
        "outputId": "a3589b30-6cca-4f48-ea36-c75bd38697a1"
      },
      "outputs": [
        {
          "output_type": "execute_result",
          "data": {
            "text/plain": [
              "BusinessTravel_Non-Travel            int64\n",
              "BusinessTravel_Travel_Frequently     int64\n",
              "BusinessTravel_Travel_Rarely         int64\n",
              "EducationField_Human Resources       int64\n",
              "EducationField_Life Sciences         int64\n",
              "EducationField_Marketing             int64\n",
              "EducationField_Medical               int64\n",
              "EducationField_Other                 int64\n",
              "EducationField_Technical Degree      int64\n",
              "JobRole_Healthcare Representative    int64\n",
              "JobRole_Human Resources              int64\n",
              "JobRole_Laboratory Technician        int64\n",
              "JobRole_Manager                      int64\n",
              "JobRole_Manufacturing Director       int64\n",
              "JobRole_Research Director            int64\n",
              "JobRole_Research Scientist           int64\n",
              "JobRole_Sales Executive              int64\n",
              "JobRole_Sales Representative         int64\n",
              "MaritalStatus_Divorced               int64\n",
              "MaritalStatus_Married                int64\n",
              "MaritalStatus_Single                 int64\n",
              "OverTime_No                          int64\n",
              "OverTime_Yes                         int64\n",
              "dtype: object"
            ]
          },
          "metadata": {},
          "execution_count": 6
        }
      ],
      "source": [
        "# Convert your X data to numeric data types however you see fit\n",
        "# Add new code cells as necessary\n",
        "X_df_train_subset = X_df_train[['BusinessTravel', 'EducationField', 'JobRole', 'MaritalStatus', 'OverTime']]\n",
        "X_df_test_subset = X_df_test[['BusinessTravel', 'EducationField', 'JobRole', 'MaritalStatus', 'OverTime']]\n",
        "\n",
        "ohe = OneHotEncoder(sparse_output=False, dtype='int')\n",
        "\n",
        "X_df_train_encoded = ohe.fit_transform(X_df_train_subset)\n",
        "X_df_test_encoded = ohe.transform(X_df_test_subset)  #don't do 2nd fit\n",
        "\n",
        "X_df_train_encoded = pd.DataFrame(data=X_df_train_encoded, columns=ohe.get_feature_names_out())\n",
        "X_df_test_encoded = pd.DataFrame(data=X_df_test_encoded, columns=ohe.get_feature_names_out())\n",
        "\n",
        "X_df_train_encoded.dtypes\n"
      ]
    },
    {
      "cell_type": "code",
      "execution_count": null,
      "metadata": {
        "id": "EWA-aIA5Gc3T"
      },
      "outputs": [],
      "source": [
        "# Create a StandardScaler\n",
        "# Fit the StandardScaler to the training data\n",
        "scaler = StandardScaler().fit(X_df_train_encoded)\n",
        "\n",
        "\n",
        "# Scale the training and testing data\n",
        "X_df_train_encoded_scaled = scaler.transform(X_df_train_encoded)\n",
        "X_df_test_encoded_scaled = scaler.transform(X_df_test_encoded)\n"
      ]
    },
    {
      "cell_type": "code",
      "source": [
        "X_df_train_encoded_scaled.shape\n"
      ],
      "metadata": {
        "colab": {
          "base_uri": "https://localhost:8080/"
        },
        "id": "ZyK8e29NIJBR",
        "outputId": "f156c4a3-3e69-4b31-ded5-5a30f3f84a55"
      },
      "execution_count": null,
      "outputs": [
        {
          "output_type": "execute_result",
          "data": {
            "text/plain": [
              "(1102, 23)"
            ]
          },
          "metadata": {},
          "execution_count": 8
        }
      ]
    },
    {
      "cell_type": "code",
      "execution_count": null,
      "metadata": {
        "colab": {
          "base_uri": "https://localhost:8080/"
        },
        "id": "-z0Mky8vQSz4",
        "outputId": "19ca1fe1-73a4-42c2-f185-34fbd7672cfb"
      },
      "outputs": [
        {
          "output_type": "execute_result",
          "data": {
            "text/plain": [
              "array([[0, 1, 0],\n",
              "       [0, 1, 0],\n",
              "       [1, 0, 0],\n",
              "       ...,\n",
              "       [0, 0, 1],\n",
              "       [0, 1, 0],\n",
              "       [0, 1, 0]])"
            ]
          },
          "metadata": {},
          "execution_count": 9
        }
      ],
      "source": [
        "# Create a OneHotEncoder for the Department column\n",
        "# Fit the encoder to the training data\n",
        "y_df_train_department_encoded = ohe.fit_transform(y_df_train[['Department']])\n",
        "y_df_test_department_encoded = ohe.fit_transform(y_df_test[['Department']])\n",
        "\n",
        "\n",
        "\n",
        "# Create two new variables by applying the encoder\n",
        "# to the training and testing data\n",
        "y_df_train_department_encoded[:]\n"
      ]
    },
    {
      "cell_type": "code",
      "execution_count": null,
      "metadata": {
        "colab": {
          "base_uri": "https://localhost:8080/"
        },
        "id": "-G4DSpvFRrk4",
        "outputId": "d258ac9f-c477-416e-cf61-4da2678c0253"
      },
      "outputs": [
        {
          "output_type": "execute_result",
          "data": {
            "text/plain": [
              "array([[1, 0],\n",
              "       [1, 0],\n",
              "       [1, 0],\n",
              "       ...,\n",
              "       [1, 0],\n",
              "       [1, 0],\n",
              "       [0, 1]])"
            ]
          },
          "metadata": {},
          "execution_count": 10
        }
      ],
      "source": [
        "# Create a OneHotEncoder for the Attrition column\n",
        "# Fit the encoder to the training data\n",
        "y_df_train_attrition_encoded = ohe.fit_transform(y_df_train[['Attrition']])\n",
        "y_df_test_attrition_encoded = ohe.fit_transform(y_df_test[['Attrition']])\n",
        "\n",
        "# Create two new variables by applying the encoder\n",
        "# to the training and testing data\n",
        "y_df_train_attrition_encoded[:]\n"
      ]
    },
    {
      "cell_type": "markdown",
      "metadata": {
        "id": "ykNmu_WWGc3T"
      },
      "source": [
        "## Create, Compile, and Train the Model"
      ]
    },
    {
      "cell_type": "code",
      "execution_count": null,
      "metadata": {
        "id": "WUptZqmSGc3T",
        "colab": {
          "base_uri": "https://localhost:8080/"
        },
        "outputId": "0b7b8c07-1ff0-422a-c180-e2bc9795a51e"
      },
      "outputs": [
        {
          "output_type": "stream",
          "name": "stdout",
          "text": [
            "1102\n"
          ]
        }
      ],
      "source": [
        "# Find the number of columns in the X training data\n",
        "num_columns = len(X_df_train_encoded_scaled)\n",
        "print(num_columns)\n",
        "# Create the input layer\n",
        "input_layer = layers.Input(shape= (X_df_train_encoded_scaled.shape[1],), name='input_features')\n",
        "\n",
        "# Create at least two shared layers\n",
        "shared_layer1 = layers.Dense(64, activation='relu') (input_layer)\n",
        "shared_layer2 = layers.Dense(128, activation='relu') (shared_layer1)\n"
      ]
    },
    {
      "cell_type": "code",
      "execution_count": null,
      "metadata": {
        "id": "JukjTm2yTEqd"
      },
      "outputs": [],
      "source": [
        "# Create a branch for Department\n",
        "# with a hidden layer and an output layer\n",
        "\n",
        "# Create the hidden layer\n",
        "Department_dense = layers.Dense(32, activation='relu', name='department_hidden')(shared_layer2)\n",
        "\n",
        "\n",
        "# Create the output layer\n",
        "Department_output = layers.Dense(y_df_train_department_encoded.shape[1],\n",
        "                                 activation='softmax',\n",
        "                                 name='Department_output')(Department_dense)\n",
        "\n"
      ]
    },
    {
      "cell_type": "code",
      "execution_count": null,
      "metadata": {
        "id": "9OqhUiOJUBkR"
      },
      "outputs": [],
      "source": [
        "# Create a branch for Attrition\n",
        "# with a hidden layer and an output layer\n",
        "\n",
        "# Create the hidden layer\n",
        "Attrition_dense = layers.Dense(32, activation='relu')(shared_layer2)\n",
        "\n",
        "\n",
        "# Create the output layer\n",
        "Attrition_output = layers.Dense(y_df_train_attrition_encoded.shape[1],\n",
        "                                 activation='sigmoid',\n",
        "                                 name='Attrition_output')(Attrition_dense)\n",
        "\n"
      ]
    },
    {
      "cell_type": "code",
      "execution_count": null,
      "metadata": {
        "colab": {
          "base_uri": "https://localhost:8080/"
        },
        "id": "twmuejdxGc3T",
        "outputId": "77d1a8a2-5be8-46af-d3c4-671a7757113f"
      },
      "outputs": [
        {
          "output_type": "stream",
          "name": "stdout",
          "text": [
            "Model: \"model\"\n",
            "__________________________________________________________________________________________________\n",
            " Layer (type)                Output Shape                 Param #   Connected to                  \n",
            "==================================================================================================\n",
            " input_features (InputLayer  [(None, 23)]                 0         []                            \n",
            " )                                                                                                \n",
            "                                                                                                  \n",
            " dense (Dense)               (None, 64)                   1536      ['input_features[0][0]']      \n",
            "                                                                                                  \n",
            " dense_1 (Dense)             (None, 128)                  8320      ['dense[0][0]']               \n",
            "                                                                                                  \n",
            " department_hidden (Dense)   (None, 32)                   4128      ['dense_1[0][0]']             \n",
            "                                                                                                  \n",
            " dense_2 (Dense)             (None, 32)                   4128      ['dense_1[0][0]']             \n",
            "                                                                                                  \n",
            " Department_output (Dense)   (None, 3)                    99        ['department_hidden[0][0]']   \n",
            "                                                                                                  \n",
            " Attrition_output (Dense)    (None, 2)                    66        ['dense_2[0][0]']             \n",
            "                                                                                                  \n",
            "==================================================================================================\n",
            "Total params: 18277 (71.39 KB)\n",
            "Trainable params: 18277 (71.39 KB)\n",
            "Non-trainable params: 0 (0.00 Byte)\n",
            "__________________________________________________________________________________________________\n"
          ]
        }
      ],
      "source": [
        "# Create the model\n",
        "model = Model(inputs=input_layer, outputs=[Department_output, Attrition_output])\n",
        "\n",
        "# Compile the model\n",
        "model.compile(optimizer='adam',\n",
        "              loss={'Department_output': 'categorical_crossentropy',\n",
        "                    'Attrition_output': 'binary_crossentropy'},\n",
        "              metrics={'Department_output': 'accuracy',\n",
        "                        'Attrition_output': 'accuracy'})\n",
        "\n",
        "# Summarize the model\n",
        "model.summary()"
      ]
    },
    {
      "cell_type": "code",
      "execution_count": null,
      "metadata": {
        "colab": {
          "base_uri": "https://localhost:8080/"
        },
        "id": "c8oGy0dpGc3U",
        "outputId": "11eb52e0-87b3-4de3-9114-f10bd1619f07"
      },
      "outputs": [
        {
          "output_type": "stream",
          "name": "stdout",
          "text": [
            "Epoch 1/100\n",
            "35/35 [==============================] - 10s 10ms/step - loss: 0.9714 - Department_output_loss: 0.5088 - Attrition_output_loss: 0.4626 - Department_output_accuracy: 0.7849 - Attrition_output_accuracy: 0.8376\n",
            "Epoch 2/100\n",
            "35/35 [==============================] - 0s 7ms/step - loss: 0.4902 - Department_output_loss: 0.0976 - Attrition_output_loss: 0.3925 - Department_output_accuracy: 0.9782 - Attrition_output_accuracy: 0.8376\n",
            "Epoch 3/100\n",
            "35/35 [==============================] - 0s 7ms/step - loss: 0.4289 - Department_output_loss: 0.0582 - Attrition_output_loss: 0.3706 - Department_output_accuracy: 0.9828 - Attrition_output_accuracy: 0.8394\n",
            "Epoch 4/100\n",
            "35/35 [==============================] - 0s 10ms/step - loss: 0.4101 - Department_output_loss: 0.0509 - Attrition_output_loss: 0.3592 - Department_output_accuracy: 0.9791 - Attrition_output_accuracy: 0.8539\n",
            "Epoch 5/100\n",
            "35/35 [==============================] - 1s 16ms/step - loss: 0.3960 - Department_output_loss: 0.0437 - Attrition_output_loss: 0.3523 - Department_output_accuracy: 0.9800 - Attrition_output_accuracy: 0.8539\n",
            "Epoch 6/100\n",
            "35/35 [==============================] - 0s 12ms/step - loss: 0.3877 - Department_output_loss: 0.0436 - Attrition_output_loss: 0.3441 - Department_output_accuracy: 0.9819 - Attrition_output_accuracy: 0.8539\n",
            "Epoch 7/100\n",
            "35/35 [==============================] - 0s 12ms/step - loss: 0.3773 - Department_output_loss: 0.0391 - Attrition_output_loss: 0.3381 - Department_output_accuracy: 0.9828 - Attrition_output_accuracy: 0.8593\n",
            "Epoch 8/100\n",
            "35/35 [==============================] - 1s 17ms/step - loss: 0.3763 - Department_output_loss: 0.0434 - Attrition_output_loss: 0.3329 - Department_output_accuracy: 0.9819 - Attrition_output_accuracy: 0.8621\n",
            "Epoch 9/100\n",
            "35/35 [==============================] - 1s 17ms/step - loss: 0.3661 - Department_output_loss: 0.0369 - Attrition_output_loss: 0.3292 - Department_output_accuracy: 0.9846 - Attrition_output_accuracy: 0.8548\n",
            "Epoch 10/100\n",
            "35/35 [==============================] - 1s 23ms/step - loss: 0.3607 - Department_output_loss: 0.0360 - Attrition_output_loss: 0.3247 - Department_output_accuracy: 0.9855 - Attrition_output_accuracy: 0.8648\n",
            "Epoch 11/100\n",
            "35/35 [==============================] - 1s 17ms/step - loss: 0.3529 - Department_output_loss: 0.0330 - Attrition_output_loss: 0.3199 - Department_output_accuracy: 0.9855 - Attrition_output_accuracy: 0.8666\n",
            "Epoch 12/100\n",
            "35/35 [==============================] - 0s 11ms/step - loss: 0.3487 - Department_output_loss: 0.0355 - Attrition_output_loss: 0.3132 - Department_output_accuracy: 0.9864 - Attrition_output_accuracy: 0.8666\n",
            "Epoch 13/100\n",
            "35/35 [==============================] - 0s 10ms/step - loss: 0.3465 - Department_output_loss: 0.0353 - Attrition_output_loss: 0.3112 - Department_output_accuracy: 0.9837 - Attrition_output_accuracy: 0.8721\n",
            "Epoch 14/100\n",
            "35/35 [==============================] - 0s 11ms/step - loss: 0.3457 - Department_output_loss: 0.0357 - Attrition_output_loss: 0.3100 - Department_output_accuracy: 0.9828 - Attrition_output_accuracy: 0.8693\n",
            "Epoch 15/100\n",
            "35/35 [==============================] - 1s 16ms/step - loss: 0.3392 - Department_output_loss: 0.0355 - Attrition_output_loss: 0.3037 - Department_output_accuracy: 0.9864 - Attrition_output_accuracy: 0.8748\n",
            "Epoch 16/100\n",
            "35/35 [==============================] - 0s 14ms/step - loss: 0.3413 - Department_output_loss: 0.0394 - Attrition_output_loss: 0.3018 - Department_output_accuracy: 0.9828 - Attrition_output_accuracy: 0.8721\n",
            "Epoch 17/100\n",
            "35/35 [==============================] - 0s 9ms/step - loss: 0.3336 - Department_output_loss: 0.0332 - Attrition_output_loss: 0.3005 - Department_output_accuracy: 0.9846 - Attrition_output_accuracy: 0.8748\n",
            "Epoch 18/100\n",
            "35/35 [==============================] - 0s 6ms/step - loss: 0.3272 - Department_output_loss: 0.0339 - Attrition_output_loss: 0.2933 - Department_output_accuracy: 0.9864 - Attrition_output_accuracy: 0.8793\n",
            "Epoch 19/100\n",
            "35/35 [==============================] - 0s 8ms/step - loss: 0.3240 - Department_output_loss: 0.0327 - Attrition_output_loss: 0.2913 - Department_output_accuracy: 0.9864 - Attrition_output_accuracy: 0.8757\n",
            "Epoch 20/100\n",
            "35/35 [==============================] - 1s 21ms/step - loss: 0.3166 - Department_output_loss: 0.0307 - Attrition_output_loss: 0.2859 - Department_output_accuracy: 0.9882 - Attrition_output_accuracy: 0.8820\n",
            "Epoch 21/100\n",
            "35/35 [==============================] - 0s 12ms/step - loss: 0.3234 - Department_output_loss: 0.0352 - Attrition_output_loss: 0.2882 - Department_output_accuracy: 0.9873 - Attrition_output_accuracy: 0.8793\n",
            "Epoch 22/100\n",
            "35/35 [==============================] - 0s 11ms/step - loss: 0.3190 - Department_output_loss: 0.0320 - Attrition_output_loss: 0.2870 - Department_output_accuracy: 0.9873 - Attrition_output_accuracy: 0.8884\n",
            "Epoch 23/100\n",
            "35/35 [==============================] - 0s 9ms/step - loss: 0.3133 - Department_output_loss: 0.0323 - Attrition_output_loss: 0.2810 - Department_output_accuracy: 0.9864 - Attrition_output_accuracy: 0.8811\n",
            "Epoch 24/100\n",
            "35/35 [==============================] - 0s 10ms/step - loss: 0.3150 - Department_output_loss: 0.0385 - Attrition_output_loss: 0.2765 - Department_output_accuracy: 0.9828 - Attrition_output_accuracy: 0.8820\n",
            "Epoch 25/100\n",
            "35/35 [==============================] - 0s 7ms/step - loss: 0.3055 - Department_output_loss: 0.0303 - Attrition_output_loss: 0.2752 - Department_output_accuracy: 0.9873 - Attrition_output_accuracy: 0.8811\n",
            "Epoch 26/100\n",
            "35/35 [==============================] - 0s 9ms/step - loss: 0.3078 - Department_output_loss: 0.0339 - Attrition_output_loss: 0.2739 - Department_output_accuracy: 0.9855 - Attrition_output_accuracy: 0.8884\n",
            "Epoch 27/100\n",
            "35/35 [==============================] - 0s 13ms/step - loss: 0.2984 - Department_output_loss: 0.0300 - Attrition_output_loss: 0.2684 - Department_output_accuracy: 0.9882 - Attrition_output_accuracy: 0.8829\n",
            "Epoch 28/100\n",
            "35/35 [==============================] - 0s 9ms/step - loss: 0.2989 - Department_output_loss: 0.0321 - Attrition_output_loss: 0.2669 - Department_output_accuracy: 0.9864 - Attrition_output_accuracy: 0.8884\n",
            "Epoch 29/100\n",
            "35/35 [==============================] - 0s 10ms/step - loss: 0.3013 - Department_output_loss: 0.0331 - Attrition_output_loss: 0.2682 - Department_output_accuracy: 0.9882 - Attrition_output_accuracy: 0.8775\n",
            "Epoch 30/100\n",
            "35/35 [==============================] - 0s 10ms/step - loss: 0.2941 - Department_output_loss: 0.0296 - Attrition_output_loss: 0.2645 - Department_output_accuracy: 0.9864 - Attrition_output_accuracy: 0.8893\n",
            "Epoch 31/100\n",
            "35/35 [==============================] - 0s 10ms/step - loss: 0.2931 - Department_output_loss: 0.0318 - Attrition_output_loss: 0.2613 - Department_output_accuracy: 0.9855 - Attrition_output_accuracy: 0.8893\n",
            "Epoch 32/100\n",
            "35/35 [==============================] - 0s 6ms/step - loss: 0.2930 - Department_output_loss: 0.0299 - Attrition_output_loss: 0.2631 - Department_output_accuracy: 0.9864 - Attrition_output_accuracy: 0.8947\n",
            "Epoch 33/100\n",
            "35/35 [==============================] - 0s 6ms/step - loss: 0.2923 - Department_output_loss: 0.0328 - Attrition_output_loss: 0.2595 - Department_output_accuracy: 0.9855 - Attrition_output_accuracy: 0.8911\n",
            "Epoch 34/100\n",
            "35/35 [==============================] - 0s 6ms/step - loss: 0.2883 - Department_output_loss: 0.0291 - Attrition_output_loss: 0.2591 - Department_output_accuracy: 0.9882 - Attrition_output_accuracy: 0.8902\n",
            "Epoch 35/100\n",
            "35/35 [==============================] - 0s 5ms/step - loss: 0.2912 - Department_output_loss: 0.0318 - Attrition_output_loss: 0.2594 - Department_output_accuracy: 0.9873 - Attrition_output_accuracy: 0.8848\n",
            "Epoch 36/100\n",
            "35/35 [==============================] - 0s 6ms/step - loss: 0.2862 - Department_output_loss: 0.0291 - Attrition_output_loss: 0.2572 - Department_output_accuracy: 0.9873 - Attrition_output_accuracy: 0.8893\n",
            "Epoch 37/100\n",
            "35/35 [==============================] - 0s 5ms/step - loss: 0.2878 - Department_output_loss: 0.0311 - Attrition_output_loss: 0.2566 - Department_output_accuracy: 0.9864 - Attrition_output_accuracy: 0.8929\n",
            "Epoch 38/100\n",
            "35/35 [==============================] - 0s 5ms/step - loss: 0.2836 - Department_output_loss: 0.0287 - Attrition_output_loss: 0.2549 - Department_output_accuracy: 0.9873 - Attrition_output_accuracy: 0.8911\n",
            "Epoch 39/100\n",
            "35/35 [==============================] - 0s 7ms/step - loss: 0.2941 - Department_output_loss: 0.0313 - Attrition_output_loss: 0.2629 - Department_output_accuracy: 0.9864 - Attrition_output_accuracy: 0.8838\n",
            "Epoch 40/100\n",
            "35/35 [==============================] - 0s 8ms/step - loss: 0.2855 - Department_output_loss: 0.0323 - Attrition_output_loss: 0.2532 - Department_output_accuracy: 0.9855 - Attrition_output_accuracy: 0.8911\n",
            "Epoch 41/100\n",
            "35/35 [==============================] - 0s 6ms/step - loss: 0.2798 - Department_output_loss: 0.0295 - Attrition_output_loss: 0.2503 - Department_output_accuracy: 0.9864 - Attrition_output_accuracy: 0.8893\n",
            "Epoch 42/100\n",
            "35/35 [==============================] - 0s 7ms/step - loss: 0.2774 - Department_output_loss: 0.0326 - Attrition_output_loss: 0.2448 - Department_output_accuracy: 0.9864 - Attrition_output_accuracy: 0.8975\n",
            "Epoch 43/100\n",
            " 8/35 [=====>........................] - ETA: 0s - loss: 0.2487 - Department_output_loss: 0.0339 - Attrition_output_loss: 0.2148 - Department_output_accuracy: 0.9922 - Attrition_output_accuracy: 0.9141"
          ]
        }
      ],
      "source": [
        "# Train the model\n",
        "model.fit(X_df_train_encoded_scaled, {'Department_output': y_df_train_department_encoded,\n",
        "                                      'Attrition_output': y_df_train_attrition_encoded},\n",
        "          epochs = 100\n",
        "          )\n"
      ]
    },
    {
      "cell_type": "code",
      "execution_count": null,
      "metadata": {
        "id": "VsMoaQlgGc3U"
      },
      "outputs": [],
      "source": [
        "# Evaluate the model with the testing data\n",
        "results = model.evaluate(np.array(X_df_test_encoded), {\n",
        "    'Department_output': y_df_test_department_encoded,\n",
        "    'Attrition_output': y_df_test_attrition_encoded\n",
        "})"
      ]
    },
    {
      "cell_type": "code",
      "source": [
        "results"
      ],
      "metadata": {
        "id": "VWTih1csJXrE"
      },
      "execution_count": null,
      "outputs": []
    },
    {
      "cell_type": "code",
      "execution_count": null,
      "metadata": {
        "id": "ZlCtlHi0Vt54"
      },
      "outputs": [],
      "source": [
        "# Print the accuracy for both department and attrition\n",
        "pred_categorties = ['Department', 'Attrition']\n",
        "for i, cat in enumerate(pred_categorties):\n",
        "  print(f'{cat} predictions accuracy: {results[i+3]}')"
      ]
    },
    {
      "cell_type": "markdown",
      "metadata": {
        "id": "eGSyfsZfWOQM"
      },
      "source": [
        "# Summary\n",
        "\n",
        "In the provided space below, briefly answer the following questions.\n",
        "\n",
        "1. Is accuracy the best metric to use on this data? Why or why not?\n",
        "\n",
        "2. What activation functions did you choose for your output layers, and why?\n",
        "\n",
        "3. Can you name a few ways that this model might be improved?"
      ]
    },
    {
      "cell_type": "markdown",
      "metadata": {
        "id": "pi9SLpFnWvbF"
      },
      "source": [
        "YOUR ANSWERS HERE\n",
        "\n",
        "1. Accuracy is defined as true positive + true negative divided by all values; thus, it is a reasonable single number to assess whether the model is good at predicting a target. Sensitivity and specificity are better, but much more confusing for most people. However, the downside of an error in predicting retention and department is not significant.\n",
        "2. For department, which had 4 different values, I used softmax because of the 4 values. For attrition, which was either yes or no, I used sigmoid - better for binary outcomes.\n",
        "3. To improve the model, I could have added more shared layers. We already added all of the available columns. We used 23 different X-values and the instructions asked us to use at least 10. The 100 epochs seemed more than adequate. The loss and accuracy didn't change much from epoch 90 to epoch 100."
      ]
    },
    {
      "cell_type": "markdown",
      "metadata": {
        "id": "lWyADSPgkDwS"
      },
      "source": []
    }
  ],
  "metadata": {
    "colab": {
      "provenance": [],
      "include_colab_link": true
    },
    "kernelspec": {
      "display_name": "Python 3",
      "language": "python",
      "name": "python3"
    },
    "language_info": {
      "codemirror_mode": {
        "name": "ipython",
        "version": 3
      },
      "file_extension": ".py",
      "mimetype": "text/x-python",
      "name": "python",
      "nbconvert_exporter": "python",
      "pygments_lexer": "ipython3",
      "version": "3.9.18"
    },
    "vscode": {
      "interpreter": {
        "hash": "31f2aee4e71d21fbe5cf8b01ff0e069b9275f58929596ceb00d14d90e3e16cd6"
      }
    }
  },
  "nbformat": 4,
  "nbformat_minor": 0
}